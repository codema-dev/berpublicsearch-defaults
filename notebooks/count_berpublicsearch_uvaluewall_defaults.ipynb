{
 "cells": [
  {
   "cell_type": "code",
   "execution_count": null,
   "metadata": {},
   "outputs": [],
   "source": [
    "import pandas as pd\n",
    "import numpy as np"
   ]
  },
  {
   "cell_type": "markdown",
   "metadata": {},
   "source": [
    "# Load BERPublicsearch"
   ]
  },
  {
   "cell_type": "code",
   "execution_count": null,
   "metadata": {},
   "outputs": [],
   "source": [
    "ber = pd.read_csv(\"../data/BERPublicsearch.zip\")"
   ]
  },
  {
   "cell_type": "code",
   "execution_count": null,
   "metadata": {},
   "outputs": [],
   "source": [
    "ber"
   ]
  },
  {
   "cell_type": "markdown",
   "metadata": {},
   "source": [
    "# Bin into regulatory periods\n",
    "\n",
    "See DEAP Manual 4.2.2 Appendix S: https://www.seai.ie/home-energy/building-energy-rating-ber/support-for-ber-assessors/domestic-ber-resources/\n",
    "\n",
    "See Ciara Ahern PhD at: https://www.researchgate.net/profile/Ciara_Ahern"
   ]
  },
  {
   "cell_type": "code",
   "execution_count": null,
   "metadata": {},
   "outputs": [],
   "source": [
    "age_bands = pd.read_csv(\"../data/age-bands.csv\")"
   ]
  },
  {
   "cell_type": "code",
   "execution_count": null,
   "metadata": {},
   "outputs": [],
   "source": [
    "age_bands"
   ]
  },
  {
   "cell_type": "code",
   "execution_count": null,
   "metadata": {},
   "outputs": [],
   "source": [
    "ber[\"age_band_bin\"] = pd.cut(\n",
    "    ber[\"Year_of_Construction\"],\n",
    "    bins=[-np.inf, 1900, 1929, 1949, 1966, 1977, 1982, 1993, 1999, 2004, 2009, np.inf],\n",
    ")"
   ]
  },
  {
   "cell_type": "code",
   "execution_count": null,
   "metadata": {},
   "outputs": [],
   "source": [
    "age_band_bins = [age_band_bin for age_band_bin in ber[\"age_band_bin\"].unique().sort_values()]"
   ]
  },
  {
   "cell_type": "code",
   "execution_count": null,
   "metadata": {},
   "outputs": [],
   "source": [
    "age_bands = [\"A\", \"B\", \"C\", \"D\", \"E\", \"F\", \"G\", \"H\", \"I\", \"J\", \"K\"]"
   ]
  },
  {
   "cell_type": "code",
   "execution_count": null,
   "metadata": {},
   "outputs": [],
   "source": [
    "age_band_map = {age_band_bin: age_band  for age_band, age_band_bin in zip(age_bands, age_band_bins)}"
   ]
  },
  {
   "cell_type": "code",
   "execution_count": null,
   "metadata": {},
   "outputs": [],
   "source": [
    "ber[\"age_band\"] = ber[\"age_band_bin\"].map(age_band_map)"
   ]
  },
  {
   "cell_type": "code",
   "execution_count": null,
   "metadata": {},
   "outputs": [],
   "source": [
    "ber[\"age_band\"]"
   ]
  },
  {
   "cell_type": "markdown",
   "metadata": {},
   "source": [
    "# Wall default U-values"
   ]
  },
  {
   "cell_type": "code",
   "execution_count": null,
   "metadata": {},
   "outputs": [],
   "source": [
    "wall_defaults_raw = pd.read_csv(\"../data/wall-uvalues.csv\")"
   ]
  },
  {
   "cell_type": "code",
   "execution_count": null,
   "metadata": {},
   "outputs": [],
   "source": [
    "wall_defaults_raw"
   ]
  },
  {
   "cell_type": "code",
   "execution_count": null,
   "metadata": {},
   "outputs": [],
   "source": [
    "wall_defaults_pivoted = wall_defaults_raw.copy().melt(\n",
    "    id_vars=\"Wall type\",\n",
    "    var_name=\"age_band\",\n",
    "    value_vars=age_bands,\n",
    "    value_name=\"UValueWall_default\"\n",
    ")\n",
    "wall_defaults_pivoted[\"wall_type\"] = wall_defaults_pivoted[\"Wall type\"].str.lower()\n",
    "wall_defaults = wall_defaults_pivoted"
   ]
  },
  {
   "cell_type": "code",
   "execution_count": null,
   "metadata": {},
   "outputs": [],
   "source": [
    "wall_defaults"
   ]
  },
  {
   "cell_type": "code",
   "execution_count": null,
   "metadata": {},
   "outputs": [],
   "source": [
    "ber[\"FirstWallType_Description\"].unique()"
   ]
  },
  {
   "cell_type": "code",
   "execution_count": null,
   "metadata": {},
   "outputs": [],
   "source": [
    "ber[\"wall_type\"] = ber[\"FirstWallType_Description\"].fillna(\"Unknown\").replace({\"Other\": \"Unknown\"}).str.lower()"
   ]
  },
  {
   "cell_type": "code",
   "execution_count": null,
   "metadata": {},
   "outputs": [],
   "source": [
    "ber[\"wall_type\"].unique()"
   ]
  },
  {
   "cell_type": "code",
   "execution_count": null,
   "metadata": {},
   "outputs": [],
   "source": [
    "ber"
   ]
  },
  {
   "cell_type": "code",
   "execution_count": null,
   "metadata": {},
   "outputs": [],
   "source": [
    "ber_merged = ber[[\"age_band\", \"wall_type\", \"UValueWall\"]].merge(wall_defaults[[\"age_band\", \"wall_type\", \"UValueWall_default\"]])"
   ]
  },
  {
   "cell_type": "code",
   "execution_count": null,
   "metadata": {},
   "outputs": [],
   "source": [
    "ber_merged[\"UValueWall_is_default\"] = ber_merged[\"UValueWall\"] == ber_merged[\"UValueWall_default\"]"
   ]
  },
  {
   "cell_type": "code",
   "execution_count": null,
   "metadata": {},
   "outputs": [],
   "source": [
    "ber_uvalue_wall_is_default = ber_merged.query(\"`UValueWall_is_default` == True\")"
   ]
  },
  {
   "cell_type": "code",
   "execution_count": null,
   "metadata": {},
   "outputs": [],
   "source": [
    "ber_uvalue_wall_is_default"
   ]
  },
  {
   "cell_type": "code",
   "execution_count": null,
   "metadata": {},
   "outputs": [],
   "source": [
    "number_of_uvalue_wall_default_hh = len(ber_uvalue_wall_is_default)\n",
    "number_of_hh = len(ber)\n",
    "percentage_of_uvalue_wall_default_hh = round(number_of_uvalue_wall_default_hh / number_of_hh * 100, 2)"
   ]
  },
  {
   "cell_type": "code",
   "execution_count": null,
   "metadata": {},
   "outputs": [],
   "source": [
    "display(f\"{percentage_of_uvalue_wall_default_hh}% of Dublin BERPublicsearch hh use default values for walls\")"
   ]
  }
 ],
 "metadata": {
  "hide_input": false,
  "kernelspec": {
   "display_name": "Python 3",
   "language": "python",
   "name": "python3"
  },
  "language_info": {
   "codemirror_mode": {
    "name": "ipython",
    "version": 3
   },
   "file_extension": ".py",
   "mimetype": "text/x-python",
   "name": "python",
   "nbconvert_exporter": "python",
   "pygments_lexer": "ipython3",
   "version": "3.9.0"
  }
 },
 "nbformat": 4,
 "nbformat_minor": 4
}
